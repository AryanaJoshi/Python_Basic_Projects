{
 "cells": [
  {
   "cell_type": "code",
   "execution_count": 20,
   "id": "27ef4f66",
   "metadata": {},
   "outputs": [],
   "source": [
    "import os , shutil"
   ]
  },
  {
   "cell_type": "code",
   "execution_count": null,
   "id": "7d17c296",
   "metadata": {},
   "outputs": [],
   "source": [
    "#changed the backward slashs to forward slash. \n",
    "#added a forward slash to the end of pathname to open the current folder"
   ]
  },
  {
   "cell_type": "code",
   "execution_count": 21,
   "id": "b54e2afb",
   "metadata": {},
   "outputs": [],
   "source": [
    "path = \"D:/Temp folder/\""
   ]
  },
  {
   "cell_type": "code",
   "execution_count": null,
   "id": "36747348",
   "metadata": {},
   "outputs": [],
   "source": [
    "#Check the files in the directory"
   ]
  },
  {
   "cell_type": "code",
   "execution_count": 29,
   "id": "47b340bc",
   "metadata": {},
   "outputs": [
    {
     "data": {
      "text/plain": [
       "['D17108GC30_sg3.pdf',\n",
       " 'Image.jpeg',\n",
       " 'Python project 1.docx',\n",
       " 'traditional-elegance.docx',\n",
       " 'Views.docx']"
      ]
     },
     "execution_count": 29,
     "metadata": {},
     "output_type": "execute_result"
    }
   ],
   "source": [
    "os.listdir(path)"
   ]
  },
  {
   "cell_type": "code",
   "execution_count": null,
   "id": "2df2533d",
   "metadata": {},
   "outputs": [],
   "source": [
    "#Create a list of folder names in which the file should get sorted \n",
    "#Create for loop to make those folders if they dont exist."
   ]
  },
  {
   "cell_type": "code",
   "execution_count": 30,
   "id": "56b44803",
   "metadata": {},
   "outputs": [
    {
     "name": "stdout",
     "output_type": "stream",
     "text": [
      "D:/Temp folder/docx files\n",
      "D:/Temp folder/image files\n",
      "D:/Temp folder/text files\n",
      "D:/Temp folder/pdf files\n"
     ]
    }
   ],
   "source": [
    "folder_names = ['docx files','image files', 'text files', 'pdf files']\n",
    "\n",
    "for loop in range(0,4):\n",
    "    if not os.path.exists(path + folder_names[loop]):\n",
    "        print(path + folder_names[loop])\n",
    "        os.makedirs(path + folder_names[loop])"
   ]
  },
  {
   "cell_type": "code",
   "execution_count": null,
   "id": "2280297f",
   "metadata": {},
   "outputs": [],
   "source": [
    "#Write the script to check the file type and place it in correct folder\n",
    "#Loop through the directory to check file type"
   ]
  },
  {
   "cell_type": "code",
   "execution_count": 36,
   "id": "6689a1b6",
   "metadata": {},
   "outputs": [],
   "source": [
    "file_name = os.listdir(path)\n",
    "\n",
    "for file in file_name:\n",
    "    if \".pdf\" in file and not os.path.exists(path + \"pdf files/\" + file):\n",
    "        shutil.move(path + file , path + \"pdf files/\" + file )\n",
    "    elif \".jpeg\" in file and not os.path.exists(path + \"image files/\" + file):\n",
    "        shutil.move(path + file , path + \"image files/\" + file )\n",
    "    elif \".text\" in file and not os.path.exists(path + \"text files/\" + file):\n",
    "        shutil.move(path + file , path + \"pdf files/\" + file )\n",
    "    elif \".docx\" in file and not os.path.exists(path + \"docx files/\" + file):\n",
    "        shutil.move(path + file , path + \"docx files/\" + file )\n"
   ]
  },
  {
   "cell_type": "code",
   "execution_count": null,
   "id": "9616e061",
   "metadata": {},
   "outputs": [],
   "source": []
  },
  {
   "cell_type": "code",
   "execution_count": null,
   "id": "90b7bb6c",
   "metadata": {},
   "outputs": [],
   "source": []
  },
  {
   "cell_type": "code",
   "execution_count": null,
   "id": "e6c8ef3a",
   "metadata": {},
   "outputs": [],
   "source": []
  },
  {
   "cell_type": "code",
   "execution_count": null,
   "id": "09192615",
   "metadata": {},
   "outputs": [],
   "source": []
  },
  {
   "cell_type": "code",
   "execution_count": null,
   "id": "9a2a27d1",
   "metadata": {},
   "outputs": [],
   "source": []
  },
  {
   "cell_type": "code",
   "execution_count": null,
   "id": "f6645e29",
   "metadata": {},
   "outputs": [],
   "source": []
  },
  {
   "cell_type": "code",
   "execution_count": null,
   "id": "0edec5d7",
   "metadata": {},
   "outputs": [],
   "source": []
  },
  {
   "cell_type": "code",
   "execution_count": null,
   "id": "14595000",
   "metadata": {},
   "outputs": [],
   "source": []
  },
  {
   "cell_type": "code",
   "execution_count": null,
   "id": "b27efce9",
   "metadata": {},
   "outputs": [],
   "source": []
  },
  {
   "cell_type": "code",
   "execution_count": null,
   "id": "08b7cf97",
   "metadata": {},
   "outputs": [],
   "source": []
  },
  {
   "cell_type": "code",
   "execution_count": null,
   "id": "ddf34a03",
   "metadata": {},
   "outputs": [],
   "source": []
  }
 ],
 "metadata": {
  "kernelspec": {
   "display_name": "Python 3 (ipykernel)",
   "language": "python",
   "name": "python3"
  },
  "language_info": {
   "codemirror_mode": {
    "name": "ipython",
    "version": 3
   },
   "file_extension": ".py",
   "mimetype": "text/x-python",
   "name": "python",
   "nbconvert_exporter": "python",
   "pygments_lexer": "ipython3",
   "version": "3.10.9"
  }
 },
 "nbformat": 4,
 "nbformat_minor": 5
}
