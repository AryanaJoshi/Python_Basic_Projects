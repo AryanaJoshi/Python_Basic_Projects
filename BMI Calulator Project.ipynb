{
  "metadata": {
    "language_info": {
      "codemirror_mode": {
        "name": "python",
        "version": 3
      },
      "file_extension": ".py",
      "mimetype": "text/x-python",
      "name": "python",
      "nbconvert_exporter": "python",
      "pygments_lexer": "ipython3",
      "version": "3.8"
    },
    "kernelspec": {
      "name": "python",
      "display_name": "Python (Pyodide)",
      "language": "python"
    }
  },
  "nbformat_minor": 4,
  "nbformat": 4,
  "cells": [
    {
      "cell_type": "code",
      "source": "#BMI Calculator in Python",
      "metadata": {
        "trusted": true
      },
      "execution_count": 1,
      "outputs": []
    },
    {
      "cell_type": "code",
      "source": "#BMI = (weight in pounds x 703) / (height in inches x height in inches)\n\n#Under 18.5\tUnderweight\tMinimal\n#18.5 - 24.9\tNormal Weight\tMinimal\n#25 - 29.9\tOverweight\tIncreased\n#30 - 34.9\tObese\tHigh\n#35 - 39.9\tSeverely Obese\tVery High\n#40 and over\tMorbidly Obese\tExtremely High",
      "metadata": {
        "trusted": true
      },
      "execution_count": 1,
      "outputs": []
    },
    {
      "cell_type": "code",
      "source": "name= input ('Enter your name: ')\nweight = int(input('Enter your weight in pounds: '))\nheight = int(input('Enter your height in inches: '))\nBMI = ((weight) * 703) / (height * height)\nprint(BMI)",
      "metadata": {},
      "execution_count": null,
      "outputs": []
    },
    {
      "cell_type": "code",
      "source": "if BMI >0:\n    if(BMI < 18.5):\n        print(name +\",You are underweight.\")\n    elif(BMI<= 24.9):\n        print(name +\",You are normal weight.\")\n    elif(BMI<= 29.9):\n        print(name +\",You are overweight.\")\n    elif(BMI<= 34.9):\n        print(name +\",You are obese.\")\n    elif(BMI<= 39.9):\n        print(name +\",You are severely obese.\")\n    else:\n        print(name +\",You are morbidly obese\")\nelse:\n    print(\"Enter valid input\")",
      "metadata": {},
      "execution_count": null,
      "outputs": []
    }
  ]
}